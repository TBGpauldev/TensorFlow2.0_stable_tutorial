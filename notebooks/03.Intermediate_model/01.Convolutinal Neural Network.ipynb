{
 "cells": [
  {
   "cell_type": "markdown",
   "metadata": {},
   "source": [
    "# 11.Convolutinal Neural Network"
   ]
  },
  {
   "cell_type": "code",
   "execution_count": 1,
   "metadata": {},
   "outputs": [],
   "source": [
    "import numpy as np\n",
    "import pandas as pd\n",
    "import tensorflow as tf\n",
    "import tensorflow.keras.layers as L\n",
    "\n",
    "gpus = tf.config.experimental.list_physical_devices('GPU')\n",
    "tf.config.experimental.set_memory_growth(gpus[0], True)"
   ]
  },
  {
   "cell_type": "code",
   "execution_count": 3,
   "metadata": {},
   "outputs": [
    {
     "name": "stdout",
     "output_type": "stream",
     "text": [
      "training_data\n",
      " (50000, 32, 32, 3)\n",
      "test_data\n",
      " (10000, 32, 32, 3)\n",
      "training_label\n",
      " (50000, 1)\n",
      "test_label\n",
      " (10000, 1)\n"
     ]
    }
   ],
   "source": [
    "# Hyper parameters\n",
    "num_epochs = 10\n",
    "num_classes = 10\n",
    "batch_size = 1024\n",
    "learning_rate = 0.001\n",
    "\n",
    "(x_train, y_train), (x_test, y_test) = tf.keras.datasets.cifar10.load_data()\n",
    "\n",
    "print(\"training_data\\n\", x_train.shape)\n",
    "print(\"test_data\\n\", x_test.shape)\n",
    "print(\"training_label\\n\", y_train.shape)\n",
    "print(\"test_label\\n\", y_test.shape)"
   ]
  },
  {
   "cell_type": "code",
   "execution_count": 6,
   "metadata": {},
   "outputs": [
    {
     "name": "stdout",
     "output_type": "stream",
     "text": [
      "<MapDataset shapes: ((None, 32, 32, 3), (None, 10)), types: (tf.float32, tf.float32)>\n"
     ]
    }
   ],
   "source": [
    "train_dataset = (\n",
    "    tf.data.Dataset.from_tensor_slices((x_train, y_train))\n",
    "    .batch(batch_size)\n",
    "    .shuffle(10000)\n",
    ")\n",
    "\n",
    "train_dataset = (\n",
    "    train_dataset.map(lambda x, y: \n",
    "                      (tf.math.divide_no_nan(tf.cast(x, tf.float32), 255.0), \n",
    "                       tf.reshape(tf.one_hot(y, 10), (-1, 10))))\n",
    ")\n",
    "\n",
    "print(train_dataset)"
   ]
  },
  {
   "cell_type": "code",
   "execution_count": 8,
   "metadata": {},
   "outputs": [
    {
     "name": "stdout",
     "output_type": "stream",
     "text": [
      "<MapDataset shapes: ((None, 32, 32, 3), (None, 10)), types: (tf.float32, tf.float32)>\n"
     ]
    }
   ],
   "source": [
    "test_dataset = (\n",
    "    tf.data.Dataset.from_tensor_slices((x_test, y_test))\n",
    "    .batch(1000)\n",
    "    .shuffle(10000)\n",
    ")\n",
    "test_dataset = (\n",
    "    test_dataset.map(lambda x, y: \n",
    "                      (tf.math.divide_no_nan(tf.cast(x, tf.float32), 255.0), \n",
    "                       tf.reshape(tf.one_hot(y, 10), (-1, 10))))\n",
    ")\n",
    "print(test_dataset)"
   ]
  },
  {
   "cell_type": "code",
   "execution_count": 12,
   "metadata": {},
   "outputs": [],
   "source": [
    "class Cifar10Model(tf.keras.Model):\n",
    "    def __init__(self):\n",
    "        super(Cifar10Model, self).__init__(name='cifar_cnn')\n",
    "        \n",
    "        self.conv_block1 = tf.keras.Sequential([\n",
    "            L.Conv2D(\n",
    "                8, \n",
    "                5,\n",
    "                padding='same',\n",
    "                activation=tf.nn.relu,\n",
    "                kernel_regularizer=tf.keras.regularizers.l2(l=0.001),\n",
    "            ),\n",
    "            L.MaxPooling2D(\n",
    "                (3, 3), \n",
    "                (2, 2), \n",
    "                padding='same'\n",
    "            ),\n",
    "        ])\n",
    "\n",
    "        self.conv_block2 = tf.keras.Sequential([\n",
    "            L.Conv2D(\n",
    "                16, \n",
    "                5,\n",
    "                padding='same',\n",
    "                activation=tf.nn.relu,\n",
    "                kernel_regularizer=tf.keras.regularizers.l2(l=0.001),\n",
    "            ),\n",
    "            L.MaxPooling2D(\n",
    "                (3, 3), \n",
    "                (2, 2), \n",
    "                padding='same',\n",
    "            ),\n",
    "        ])\n",
    "        \n",
    "        self.conv_block3 = tf.keras.Sequential([\n",
    "            L.Conv2D(\n",
    "                32, \n",
    "                5,\n",
    "                padding='same',\n",
    "                activation=tf.nn.relu,\n",
    "                kernel_regularizer=tf.keras.regularizers.l2(l=0.001),\n",
    "            ),\n",
    "            L.MaxPooling2D(\n",
    "                (3, 3), \n",
    "                (2, 2), \n",
    "                padding='same',\n",
    "            ),\n",
    "        ])\n",
    "        \n",
    "        self.flatten = L.Flatten()\n",
    "        self.fc1 = L.Dense(\n",
    "            256, \n",
    "            activation=tf.nn.relu,\n",
    "            kernel_regularizer=tf.keras.regularizers.l2(l=0.001))\n",
    "        self.dropout = L.Dropout(rate=0.8)\n",
    "        self.fc2 = L.Dense(10)\n",
    "        self.softmax = L.Softmax()\n",
    "\n",
    "    def call(self, x, training=False):\n",
    "        x = self.conv_block1(x, training=training)\n",
    "        x = self.conv_block2(x, training=training)\n",
    "        x = self.conv_block3(x, training=training)\n",
    "        x = self.flatten(x)\n",
    "        x = self.dropout(self.fc1(x), training=training)\n",
    "        x = self.fc2(x)\n",
    "        return self.softmax(x)"
   ]
  },
  {
   "cell_type": "code",
   "execution_count": 13,
   "metadata": {},
   "outputs": [],
   "source": [
    "model = Cifar10Model()\n",
    "\n",
    "def loss_fn(y, y_pre):\n",
    "    return tf.keras.losses.categorical_crossentropy(y, y_pre)\n",
    "\n",
    "def accuracy(y, y_pre):\n",
    "    return tf.keras.metrics.categorical_accuracy(y, y_pre)\n",
    "\n",
    "optimizer = tf.keras.optimizers.Adam(learning_rate)"
   ]
  },
  {
   "cell_type": "code",
   "execution_count": 14,
   "metadata": {},
   "outputs": [
    {
     "name": "stdout",
     "output_type": "stream",
     "text": [
      "-----epoch 1 -----\n",
      "loss:  2.176459176199777\n",
      "acc:  0.18480797203219668\n",
      "-----epoch 2 -----\n",
      "loss:  1.8556046777841997\n",
      "acc:  0.3186650957380022\n",
      "-----epoch 3 -----\n",
      "loss:  1.7119883323202327\n",
      "acc:  0.3803419385637556\n",
      "-----epoch 4 -----\n",
      "loss:  1.6115576296436542\n",
      "acc:  0.4134356440330038\n",
      "-----epoch 5 -----\n",
      "loss:  1.5665786120356346\n",
      "acc:  0.4334392158352599\n",
      "-----epoch 6 -----\n",
      "loss:  1.5082090728136959\n",
      "acc:  0.45704892216896525\n",
      "-----epoch 7 -----\n",
      "loss:  1.461917176538584\n",
      "acc:  0.4739344071368782\n",
      "-----epoch 8 -----\n",
      "loss:  1.4254875961615114\n",
      "acc:  0.49176484711316165\n",
      "-----epoch 9 -----\n",
      "loss:  1.4117657408422353\n",
      "acc:  0.4957914157789581\n",
      "-----epoch 10 -----\n",
      "loss:  1.3693771362304688\n",
      "acc:  0.5115299614108338\n"
     ]
    }
   ],
   "source": [
    "for j in range(num_epochs):\n",
    "    \n",
    "    running_loss = 0\n",
    "    running_acc = 0\n",
    "\n",
    "    for i, (x_, y_) in enumerate(train_dataset):\n",
    "        \n",
    "        with tf.GradientTape() as tape:\n",
    "            y_pre = model(x_, training=True)\n",
    "            loss = loss_fn(y_, y_pre)\n",
    "        acc = accuracy(y_, y_pre)\n",
    "        grads = tape.gradient(loss, model.variables)\n",
    "        optimizer.apply_gradients(zip(grads, model.variables))\n",
    "        running_loss += tf.reduce_mean(loss)\n",
    "        running_acc += tf.reduce_mean(acc)\n",
    "    \n",
    "    print(\"-----epoch {} -----\".format(j + 1))\n",
    "    print(\"loss: \", running_loss.numpy()/(i + 1))\n",
    "    print(\"acc: \", running_acc.numpy()/(i + 1)) "
   ]
  },
  {
   "cell_type": "code",
   "execution_count": 15,
   "metadata": {},
   "outputs": [
    {
     "name": "stdout",
     "output_type": "stream",
     "text": [
      "test accuracy 0.556\n"
     ]
    }
   ],
   "source": [
    "test_accuracy = 0\n",
    "for i, (x_, y_) in enumerate(test_dataset):\n",
    "    y_pre = model(x_)\n",
    "    test_accuracy += tf.reduce_mean(accuracy(y_, y_pre))\n",
    "test_accuracy /= i + 1\n",
    "\n",
    "print(\"test accuracy {:0.3f}\".format(test_accuracy.numpy()))"
   ]
  }
 ],
 "metadata": {
  "kernelspec": {
   "display_name": "Python 3",
   "language": "python",
   "name": "python3"
  },
  "language_info": {
   "codemirror_mode": {
    "name": "ipython",
    "version": 3
   },
   "file_extension": ".py",
   "mimetype": "text/x-python",
   "name": "python",
   "nbconvert_exporter": "python",
   "pygments_lexer": "ipython3",
   "version": "3.6.8"
  }
 },
 "nbformat": 4,
 "nbformat_minor": 2
}
